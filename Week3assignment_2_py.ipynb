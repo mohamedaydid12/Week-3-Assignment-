{
  "nbformat": 4,
  "nbformat_minor": 0,
  "metadata": {
    "colab": {
      "provenance": [],
      "authorship_tag": "ABX9TyPwSGCMCELM/OyZgNEmAG5+",
      "include_colab_link": true
    },
    "kernelspec": {
      "name": "python3",
      "display_name": "Python 3"
    },
    "language_info": {
      "name": "python"
    }
  },
  "cells": [
    {
      "cell_type": "markdown",
      "metadata": {
        "id": "view-in-github",
        "colab_type": "text"
      },
      "source": [
        "<a href=\"https://colab.research.google.com/github/mohamedaydid12/Week-3-Assignment-/blob/main/assignment_2_py.ipynb\" target=\"_parent\"><img src=\"https://colab.research.google.com/assets/colab-badge.svg\" alt=\"Open In Colab\"/></a>"
      ]
    },
    {
      "cell_type": "code",
      "execution_count": 1,
      "metadata": {
        "colab": {
          "base_uri": "https://localhost:8080/"
        },
        "id": "_2Cvfm1vNP6r",
        "outputId": "9ba733d8-e02a-426f-f546-ed889569ce3c"
      },
      "outputs": [
        {
          "output_type": "stream",
          "name": "stdout",
          "text": [
            "Testing i = 0\n",
            "Testing i = 1\n",
            "Testing i = 2\n",
            "Testing i = 3\n",
            "Testing i = 4\n",
            "Testing i = 5\n",
            "Testing i = 6\n",
            "Testing i = 7\n",
            "Testing i = 8\n",
            "Testing i = 9\n",
            "Testing i = 10\n"
          ]
        }
      ],
      "source": [
        "finished_program = False\n",
        "\n",
        "# Count to 10 Program\n",
        "i = 0  # Move this line outside the loop\n",
        "\n",
        "while finished_program == False:\n",
        "\n",
        "    print(f'Testing i = {i}')\n",
        "\n",
        "    if i == 10:\n",
        "        finished_program = True\n",
        "\n",
        "    i += 1\n"
      ]
    }
  ]
}
