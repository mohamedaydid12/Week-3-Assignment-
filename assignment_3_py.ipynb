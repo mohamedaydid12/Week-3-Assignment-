{
  "nbformat": 4,
  "nbformat_minor": 0,
  "metadata": {
    "colab": {
      "provenance": [],
      "authorship_tag": "ABX9TyOHFgF0U4/0NpA9T15UOOc6",
      "include_colab_link": true
    },
    "kernelspec": {
      "name": "python3",
      "display_name": "Python 3"
    },
    "language_info": {
      "name": "python"
    }
  },
  "cells": [
    {
      "cell_type": "markdown",
      "metadata": {
        "id": "view-in-github",
        "colab_type": "text"
      },
      "source": [
        "<a href=\"https://colab.research.google.com/github/mohamedaydid12/Week-3-Assignment-/blob/main/assignment_3_py.ipynb\" target=\"_parent\"><img src=\"https://colab.research.google.com/assets/colab-badge.svg\" alt=\"Open In Colab\"/></a>"
      ]
    },
    {
      "cell_type": "code",
      "source": [
        "def sum_of_numbers(numbers):\n",
        "    return sum(numbers)\n",
        "\n",
        "numbers = [1, 2, 3, 4, 5]\n",
        "print(\"Sum:\", sum_of_numbers(numbers))\n"
      ],
      "metadata": {
        "colab": {
          "base_uri": "https://localhost:8080/"
        },
        "id": "ucdIkkPTTpvW",
        "outputId": "feee5b24-afa0-4549-a7f9-a839be70b008"
      },
      "execution_count": 15,
      "outputs": [
        {
          "output_type": "stream",
          "name": "stdout",
          "text": [
            "Sum: 15\n"
          ]
        }
      ]
    },
    {
      "cell_type": "code",
      "source": [
        "def average_of_numbers(numbers):\n",
        "    return sum(numbers) / len(numbers)\n",
        "\n",
        "numbers = [1, 2, 3, 4, 5]\n",
        "print(\"Average:\", average_of_numbers(numbers))\n"
      ],
      "metadata": {
        "colab": {
          "base_uri": "https://localhost:8080/"
        },
        "id": "Cda6dLK9Tqjb",
        "outputId": "0377306d-d243-42bb-a19f-1d4f4dac1a9b"
      },
      "execution_count": 16,
      "outputs": [
        {
          "output_type": "stream",
          "name": "stdout",
          "text": [
            "Average: 3.0\n"
          ]
        }
      ]
    },
    {
      "cell_type": "code",
      "source": [
        "def largest_number(numbers):\n",
        "    return max(numbers)\n",
        "\n",
        "numbers = [1, 2, 3, 4, 5]\n",
        "print(\"Largest number:\", largest_number(numbers))\n"
      ],
      "metadata": {
        "colab": {
          "base_uri": "https://localhost:8080/"
        },
        "id": "DC-sNfLoT3b4",
        "outputId": "eac05e69-8acf-4f0a-833e-03ff2aaf8db9"
      },
      "execution_count": 17,
      "outputs": [
        {
          "output_type": "stream",
          "name": "stdout",
          "text": [
            "Largest number: 5\n"
          ]
        }
      ]
    }
  ]
}